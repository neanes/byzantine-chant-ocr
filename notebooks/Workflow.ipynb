{
 "cells": [
  {
   "cell_type": "code",
   "execution_count": 47,
   "id": "805e81ad-e571-4a3f-9573-279913b5f1f7",
   "metadata": {},
   "outputs": [],
   "source": [
    "import os\n",
    "import shutil\n",
    "import datetime\n",
    "import json\n",
    "import numpy as np\n",
    "import pymupdf\n",
    "import cv2\n",
    "import torch\n",
    "import imutils\n",
    "from imutils.contours import sort_contours\n",
    "import fiftyone as fo\n",
    "import fiftyone.brain as fob\n",
    "import fiftyone.zoo as foz\n",
    "from torchvision import transforms\n",
    "import torch.nn as nn\n",
    "import torchvision.models as models\n",
    "from tkinter import filedialog\n",
    "from tkinter import Tk\n",
    "import ipywidgets as widgets\n",
    "from IPython.display import display\n",
    "from PIL import Image\n",
    "\n",
    "import sys\n",
    "sys.path.append('../src')\n",
    "from segmentation import segment\n",
    "from text_removal import remove_text\n",
    "\n",
    "# Paths\n",
    "PDF_FOLDER = \"../data/pages\"\n",
    "UNCLASSIFIED_FOLDER = \"../data/unclassified\"\n",
    "TRAIN_FOLDER = \"../data/train\"\n",
    "VAL_FOLDER = \"../data/val\"\n",
    "TEST_FOLDER = \"../data/test\"\n",
    "MODEL_PATH = \"../models/current_model.pth\"\n",
    "CLASSES_PATH = \"../models/classes.json\"\n",
    "\n",
    "# Create folders if they don't exist\n",
    "os.makedirs(PDF_FOLDER, exist_ok=True)\n",
    "os.makedirs(UNCLASSIFIED_FOLDER, exist_ok=True)\n"
   ]
  },
  {
   "cell_type": "markdown",
   "id": "222701fe-1867-4b0c-a54e-25ca7e71804f",
   "metadata": {},
   "source": [
    "## PROCESS PDF"
   ]
  },
  {
   "cell_type": "code",
   "execution_count": 23,
   "id": "6bb1fb44-f1c9-408a-95c0-74d914a99947",
   "metadata": {
    "scrolled": true
   },
   "outputs": [
    {
     "data": {
      "application/vnd.jupyter.widget-view+json": {
       "model_id": "f9c82d7314b34b368a4e7bb4980817a1",
       "version_major": 2,
       "version_minor": 0
      },
      "text/plain": [
       "HBox(children=(Button(description='Choose File', style=ButtonStyle()), Text(value='', description='Selected Fi…"
      ]
     },
     "metadata": {},
     "output_type": "display_data"
    },
    {
     "data": {
      "application/vnd.jupyter.widget-view+json": {
       "model_id": "6e0beb953ddc4099b98681802718fa7b",
       "version_major": 2,
       "version_minor": 0
      },
      "text/plain": [
       "IntText(value=1, description='Start Page:')"
      ]
     },
     "metadata": {},
     "output_type": "display_data"
    },
    {
     "data": {
      "application/vnd.jupyter.widget-view+json": {
       "model_id": "903a9b6e689a428abc050361c0205697",
       "version_major": 2,
       "version_minor": 0
      },
      "text/plain": [
       "IntText(value=5, description='End Page:')"
      ]
     },
     "metadata": {},
     "output_type": "display_data"
    },
    {
     "data": {
      "application/vnd.jupyter.widget-view+json": {
       "model_id": "ec714cf0d6af437b80a5f7ba8b357bb4",
       "version_major": 2,
       "version_minor": 0
      },
      "text/plain": [
       "Text(value='../data/pages', description='PDF Output Folder:')"
      ]
     },
     "metadata": {},
     "output_type": "display_data"
    },
    {
     "data": {
      "application/vnd.jupyter.widget-view+json": {
       "model_id": "19186e40b49c4324a375bdd617a7c3da",
       "version_major": 2,
       "version_minor": 0
      },
      "text/plain": [
       "Text(value='../data/unclassified', description='Contours Output Folder:')"
      ]
     },
     "metadata": {},
     "output_type": "display_data"
    },
    {
     "data": {
      "application/vnd.jupyter.widget-view+json": {
       "model_id": "0611d5984f144b018b1db1dd06746c6b",
       "version_major": 2,
       "version_minor": 0
      },
      "text/plain": [
       "Button(description='Extract Contours', style=ButtonStyle())"
      ]
     },
     "metadata": {},
     "output_type": "display_data"
    },
    {
     "data": {
      "application/vnd.jupyter.widget-view+json": {
       "model_id": "f0cdacfccd944382b50040538c3d2294",
       "version_major": 2,
       "version_minor": 0
      },
      "text/plain": [
       "Output()"
      ]
     },
     "metadata": {},
     "output_type": "display_data"
    }
   ],
   "source": [
    "def process_pdf(pdf_path, page_range, pdf_folder, contour_folder, target_size=224):\n",
    "    doc = pymupdf.open(pdf_path)\n",
    "    for page_num in page_range:\n",
    "        if page_num < 0 or page_num >= len(doc):\n",
    "            print(f\"Page {page_num} is out of range. Skipping.\")\n",
    "            continue\n",
    "        page = doc.load_page(page_num)\n",
    "        pix = page.get_pixmap(dpi=300)  # High DPI for quality\n",
    "        filename = os.path.basename(pdf_path)\n",
    "        img_path = os.path.join(pdf_folder, f\"{filename}_page_{page_num+1}.png\")\n",
    "        pix.save(img_path)\n",
    "\n",
    "        # Resize the image\n",
    "        img = cv2.imread(img_path, cv2.IMREAD_GRAYSCALE)\n",
    "\n",
    "        img = cv2.threshold(img, 0, 255, cv2.THRESH_BINARY_INV | cv2.THRESH_OTSU)[1]\n",
    "        segmentation = segment(img)\n",
    "        img = remove_text(img, segmentation)\n",
    "        \n",
    "        blurred = cv2.GaussianBlur(img, (5, 5), 0);\n",
    "\n",
    "        edged = cv2.Canny(blurred, 30, 150)\n",
    "\n",
    "        contours = cv2.findContours(edged.copy(), cv2.RETR_EXTERNAL, cv2.CHAIN_APPROX_SIMPLE)     \n",
    "\n",
    "        contours = imutils.grab_contours(contours)\n",
    "        contours = sort_contours(contours, method=\"left-to-right\")[0]\n",
    "\n",
    "        for contour_num in range(len(contours)):\n",
    "            contour = contours[contour_num]\n",
    "            # Get the bounding box for each contour\n",
    "            x, y, w, h = cv2.boundingRect(contour)\n",
    "\n",
    "            # Filter out very small contours\n",
    "            if w < 5:\n",
    "                continue\n",
    "\n",
    "            # Crop the region of interest (ROI) from the original image\n",
    "            roi = img[y:y+h, x:x+w]\n",
    "\n",
    "            (tH, tW) = img.shape\n",
    "\n",
    "            scale = target_size / max(h, w)\n",
    "            new_w = int(w * scale)\n",
    "            new_h = int(h * scale)\n",
    "\n",
    "            resized = cv2.resize(roi, (new_w, new_h), interpolation=cv2.INTER_CUBIC)\n",
    "\n",
    "            (tH, tW) = resized.shape\n",
    "            dX = int(max(0, target_size - tW) / 2.0)\n",
    "            dY = int(max(0, target_size - tH) / 2.0)\n",
    "            # pad the image and force dimensions\n",
    "            padded = cv2.copyMakeBorder(resized, top=dY, bottom=dY,\n",
    "            \tleft=dX, right=dX, borderType=cv2.BORDER_CONSTANT,\n",
    "            \tvalue=(0, 0, 0))\n",
    "            padded = cv2.resize(padded, (target_size, target_size), interpolation=cv2.INTER_CUBIC)\n",
    "            \n",
    "            img_path = os.path.join(contour_folder, f\"{filename}_page_{page_num+1}_contour_{contour_num}.png\")\n",
    "            cv2.imwrite(img_path, padded)\n",
    "\n",
    "pdf_output = widgets.Output()\n",
    "\n",
    "def on_pick_file_button_click(_):\n",
    "    with pdf_output:\n",
    "        root = Tk()\n",
    "        root.withdraw()  # Hide Tkinter root window\n",
    "        root.call('wm', 'attributes', '.', '-topmost', True)\n",
    "        selected_file.value = filedialog.askopenfilename(title=\"Select a PDF File\", filetypes=[(\"PDF Files\", \"*.pdf\")], parent=root)\n",
    "        root.destroy\n",
    "\n",
    "pick_file_button = widgets.Button(description=\"Choose File\")\n",
    "pick_file_button.on_click(on_pick_file_button_click)\n",
    "\n",
    "\n",
    "# Interactive widgets for page range input\n",
    "start_page = widgets.IntText(value=1, description=\"Start Page:\", step=1)\n",
    "end_page = widgets.IntText(value=5, description=\"End Page:\", step=1)\n",
    "pdf_folder = widgets.Text(value=PDF_FOLDER, description=\"PDF Output Folder:\")\n",
    "selected_file = widgets.Text(value='', description=\"Selected File:\")\n",
    "contour_folder = widgets.Text(value=UNCLASSIFIED_FOLDER, description=\"Contours Output Folder:\")\n",
    "\n",
    "def on_button_click(_):\n",
    "    with pdf_output:\n",
    "         # Get user input for page range\n",
    "         start = start_page.value - 1  # Convert to 0-based index\n",
    "         end = end_page.value - 1     # Convert to 0-based index\n",
    "         page_range = list(range(start, end + 1))\n",
    "        \n",
    "         # Run contour extraction\n",
    "         process_pdf(selected_file.value, page_range, pdf_folder.value, contour_folder.value)\n",
    "         print(\"Done\")\n",
    "\n",
    "# Button to trigger the extraction\n",
    "extract_button = widgets.Button(description=\"Extract Contours\")\n",
    "extract_button.on_click(on_button_click)\n",
    "        \n",
    "# Display widgets\n",
    "display(widgets.HBox([pick_file_button, selected_file]), start_page, end_page, pdf_folder, contour_folder, extract_button, pdf_output)"
   ]
  },
  {
   "cell_type": "markdown",
   "id": "1830dcea-c51b-44b9-987e-a54876f89942",
   "metadata": {},
   "source": [
    "## Predict"
   ]
  },
  {
   "cell_type": "code",
   "execution_count": 62,
   "id": "b4815d52-bb86-4139-babc-9b35031e32ed",
   "metadata": {},
   "outputs": [
    {
     "data": {
      "application/vnd.jupyter.widget-view+json": {
       "model_id": "775e91c3b264416188a9adc018987ad5",
       "version_major": 2,
       "version_minor": 0
      },
      "text/plain": [
       "HBox(children=(Text(value='../data/unclassified', description='Image Folder:'), Button(description='Go', style…"
      ]
     },
     "metadata": {},
     "output_type": "display_data"
    },
    {
     "data": {
      "application/vnd.jupyter.widget-view+json": {
       "model_id": "63bfb6d38b594747af9da5e7d35d73c9",
       "version_major": 2,
       "version_minor": 0
      },
      "text/plain": [
       "IntProgress(value=0, bar_style='info', description='Progress:', max=10, style=ProgressStyle(bar_color='blue'))"
      ]
     },
     "metadata": {},
     "output_type": "display_data"
    },
    {
     "data": {
      "application/vnd.jupyter.widget-view+json": {
       "model_id": "bc27fe7e8ab149d8a01b262abe3a8939",
       "version_major": 2,
       "version_minor": 0
      },
      "text/plain": [
       "Output()"
      ]
     },
     "metadata": {},
     "output_type": "display_data"
    }
   ],
   "source": [
    "def predict_images(model, classes, image_folder, progress):\n",
    "    progress.value = 0\n",
    "    \n",
    "    transform = transforms.Compose(\n",
    "        [\n",
    "            transforms.Resize((224, 224)),\n",
    "            transforms.ToTensor(),\n",
    "            transforms.Normalize(mean=[0.485, 0.456, 0.406], std=[0.229, 0.224, 0.225]),\n",
    "        ]\n",
    "    )\n",
    "    \n",
    "    predictions = []\n",
    "    model.eval()\n",
    "\n",
    "    files = os.listdir(image_folder)\n",
    "\n",
    "    progress.max = len(files)\n",
    "    \n",
    "    for img_name in files:\n",
    "        img_path = os.path.join(image_folder, img_name)\n",
    "        img = cv2.imread(img_path)\n",
    "        img = cv2.cvtColor(img, cv2.COLOR_BGR2RGB)\n",
    "        img = Image.fromarray(img)\n",
    "        \n",
    "        tensor = transform(img).unsqueeze(0)\n",
    "\n",
    "        with torch.no_grad():\n",
    "            output = model(tensor)\n",
    "        \n",
    "        probabilities = nn.functional.softmax(output[0], dim=0)\n",
    "        class_id = torch.argmax(probabilities).item()\n",
    "        confidence = probabilities[class_id]\n",
    "\n",
    "        predictions.append({\n",
    "            \"filepath\": img_path,\n",
    "            \"prediction\": classes[class_id],\n",
    "            \"confidence\": confidence\n",
    "        })\n",
    "\n",
    "        progress.value = progress.value + 1\n",
    "    \n",
    "    return predictions\n",
    "\n",
    "# Set up the progress widget\n",
    "predict_progress = widgets.IntProgress(\n",
    "    value=0,\n",
    "    min=0,\n",
    "    max=10,\n",
    "    description='Progress:',\n",
    "    bar_style='info',\n",
    "    style={'bar_color': 'blue'},\n",
    "    orientation='horizontal'\n",
    ")\n",
    "\n",
    "predictions = None\n",
    "\n",
    "def on_predict_click(_):\n",
    "    global predictions\n",
    "    with predict_output:\n",
    "    # Load the model\n",
    "        with open(CLASSES_PATH) as f:\n",
    "            classes = json.load(f)\n",
    "    \n",
    "        model = models.mobilenet_v2(weights=models.MobileNet_V2_Weights.DEFAULT)\n",
    "        num_features = model.last_channel  # Get the size of the last layer\n",
    "        model.classifier[1] = nn.Linear(num_features, len(classes))  # Replace classifier\n",
    "        model.load_state_dict(torch.load(MODEL_PATH))\n",
    "    \n",
    "        predictions = predict_images(model, classes, folder_to_predict_widget.value, predict_progress)\n",
    "        print(f\"{len(predictions)} predictions created for {folder_to_predict_widget.value}.\")\n",
    "\n",
    "folder_to_predict_widget = widgets.Text(value=UNCLASSIFIED_FOLDER, description=\"Image Folder:\")\n",
    "predict_button = widgets.Button(description=\"Go\")\n",
    "predict_button.on_click(on_predict_click)\n",
    "predict_output = widgets.Output()\n",
    "\n",
    "display(widgets.HBox([folder_to_predict_widget, predict_button]), predict_progress, predict_output)"
   ]
  },
  {
   "cell_type": "markdown",
   "id": "09a938e2-0dbf-4abe-a5d0-7bdf60cd8de9",
   "metadata": {},
   "source": [
    "## Convert Predictions to Dataset"
   ]
  },
  {
   "cell_type": "code",
   "execution_count": 63,
   "id": "eb274f73-86be-43b3-8614-db4062c6a4b5",
   "metadata": {},
   "outputs": [
    {
     "name": "stdout",
     "output_type": "stream",
     "text": [
      "Session launched. Run `session.show()` to open the App in a cell output.\n",
      "Computing embeddings...\n"
     ]
    },
    {
     "data": {
      "text/plain": [
       "<fiftyone.brain.internal.core.sklearn.SklearnSimilarityIndex at 0x2201b1b2990>"
      ]
     },
     "execution_count": 63,
     "metadata": {},
     "output_type": "execute_result"
    },
    {
     "name": "stdout",
     "output_type": "stream",
     "text": [
      "\n",
      "Could not connect session, trying again in 10 seconds\n",
      "\n",
      "\n",
      "Could not connect session, trying again in 10 seconds\n",
      "\n",
      "\n",
      "Could not connect session, trying again in 10 seconds\n",
      "\n",
      "\n",
      "Could not connect session, trying again in 10 seconds\n",
      "\n",
      "\n",
      "Could not connect session, trying again in 10 seconds\n",
      "\n"
     ]
    }
   ],
   "source": [
    "session = fo.launch_app(port=5151, auto=False)\n",
    "\n",
    "# Load predictions into FiftyOne\n",
    "samples = []\n",
    "for pred in predictions:\n",
    "    sample = fo.Sample(filepath=pred[\"filepath\"])\n",
    "    sample[\"prediction\"] = fo.Classification(label=pred[\"prediction\"], confidence=pred[\"confidence\"])\n",
    "    samples.append(sample)\n",
    "\n",
    "# Create or load a FiftyOne dataset\n",
    "now = datetime.datetime.now()\n",
    "datetime_string = now.strftime(\"%Y%m%d%H%M%S\")\n",
    "\n",
    "dataset = fo.Dataset(f\"predictions_test_{datetime_string}\")\n",
    "dataset.add_samples(samples)\n",
    "\n",
    "session.dataset = dataset\n",
    "\n",
    "fob.compute_similarity(\n",
    "    dataset,\n",
    "    model=\"clip-vit-base32-torch\",\n",
    "    brain_key=\"img_sim\",\n",
    ")"
   ]
  },
  {
   "cell_type": "code",
   "execution_count": 66,
   "id": "195584be-f805-4f08-9a7d-9e6bf6371714",
   "metadata": {},
   "outputs": [
    {
     "data": {
      "text/html": [
       "\n",
       "        <iframe\n",
       "            width=\"100%\"\n",
       "            height=\"800\"\n",
       "            src=\"http://localhost:5151/?notebook=True&subscription=a698cdd3-cad7-4220-9dc3-9c971cffb62d\"\n",
       "            frameborder=\"0\"\n",
       "            allowfullscreen\n",
       "            \n",
       "        ></iframe>\n",
       "        "
      ],
      "text/plain": [
       "<IPython.lib.display.IFrame at 0x22025b85790>"
      ]
     },
     "metadata": {},
     "output_type": "display_data"
    },
    {
     "name": "stdout",
     "output_type": "stream",
     "text": [
      "\n",
      "Could not connect session, trying again in 10 seconds\n",
      "\n",
      "\n",
      "Could not connect session, trying again in 10 seconds\n",
      "\n",
      "\n",
      "Could not connect session, trying again in 10 seconds\n",
      "\n",
      "\n",
      "Could not connect session, trying again in 10 seconds\n",
      "\n",
      "\n",
      "Could not connect session, trying again in 10 seconds\n",
      "\n"
     ]
    }
   ],
   "source": [
    "session = fo.launch_app(port=5151)"
   ]
  },
  {
   "cell_type": "markdown",
   "id": "0ed0338a-8467-43f0-a3a6-52bfab29fe2b",
   "metadata": {},
   "source": [
    "## Update Dataset"
   ]
  },
  {
   "cell_type": "code",
   "execution_count": 67,
   "id": "2ab53da3-9c3a-4e66-8b76-cb2e33771fb7",
   "metadata": {},
   "outputs": [
    {
     "data": {
      "application/vnd.jupyter.widget-view+json": {
       "model_id": "9c47641e660e47b59e1585deb918ed50",
       "version_major": 2,
       "version_minor": 0
      },
      "text/plain": [
       "HBox(children=(Button(description='Train', style=ButtonStyle()), Button(description='Val', style=ButtonStyle()…"
      ]
     },
     "metadata": {},
     "output_type": "display_data"
    },
    {
     "data": {
      "application/vnd.jupyter.widget-view+json": {
       "model_id": "0e44598bbf7f450a83bda82562d42fb0",
       "version_major": 2,
       "version_minor": 0
      },
      "text/plain": [
       "Output()"
      ]
     },
     "metadata": {},
     "output_type": "display_data"
    }
   ],
   "source": [
    "def update_dataset(dataset, dataset_folder):\n",
    "    count = 0\n",
    "    for sample in dataset:\n",
    "        if sample.tags:\n",
    "            label = sample.tags[0]\n",
    "            class_folder = os.path.join(dataset_folder, label)\n",
    "            os.makedirs(class_folder, exist_ok=True)\n",
    "\n",
    "            new_path = os.path.join(class_folder, os.path.basename(sample.filepath))\n",
    "\n",
    "            if not os.path.exists(new_path):\n",
    "                shutil.copy(sample.filepath, new_path)\n",
    "                count = count + 1\n",
    "                \n",
    "    print(f\"Added {count} files to {dataset_folder}\")\n",
    "\n",
    "output = widgets.Output()\n",
    "\n",
    "def update_train(_):\n",
    "    with output:\n",
    "        update_dataset(session.dataset, TRAIN_FOLDER)\n",
    "\n",
    "def update_val(_):\n",
    "    with output:\n",
    "        update_dataset(session.dataset, VAL_FOLDER)\n",
    "\n",
    "def update_test(_):\n",
    "    with output:\n",
    "        update_dataset(session.dataset, TEST_FOLDER)\n",
    "\n",
    "train_button = widgets.Button(description=\"Train\")\n",
    "train_button.on_click(update_train)\n",
    "\n",
    "val_button = widgets.Button(description=\"Val\")\n",
    "val_button.on_click(update_val)\n",
    "\n",
    "test_button = widgets.Button(description=\"Test\")\n",
    "test_button.on_click(update_test)\n",
    "\n",
    "display(widgets.HBox([train_button, val_button, test_button]), output)"
   ]
  },
  {
   "cell_type": "markdown",
   "id": "b69ffe4a-2873-41a6-a1de-bceff27b7d24",
   "metadata": {},
   "source": [
    "## Add tag to selected samples"
   ]
  },
  {
   "cell_type": "code",
   "execution_count": 42,
   "id": "56083bf2-b454-4138-8288-6c539b0144b4",
   "metadata": {},
   "outputs": [
    {
     "data": {
      "application/vnd.jupyter.widget-view+json": {
       "model_id": "eb5c0acfe5fb4221bda10d6776207eff",
       "version_major": 2,
       "version_minor": 0
      },
      "text/plain": [
       "HBox(children=(Text(value='', description='Tag'), Button(description='Add', style=ButtonStyle())))"
      ]
     },
     "metadata": {},
     "output_type": "display_data"
    },
    {
     "data": {
      "application/vnd.jupyter.widget-view+json": {
       "model_id": "dd306389a836413fa50f389ccbbf6b58",
       "version_major": 2,
       "version_minor": 0
      },
      "text/plain": [
       "Output()"
      ]
     },
     "metadata": {},
     "output_type": "display_data"
    }
   ],
   "source": [
    "add_tag_output = widgets.Output()\n",
    "\n",
    "def add_tag(_):\n",
    "    with add_tag_output:\n",
    "        count = 0\n",
    "        for sample in session.selected:\n",
    "            session.dataset[sample].tags.append(tag_widget.value)\n",
    "            count = count + 1\n",
    "        print(f\"Added {count} tags\")\n",
    "\n",
    "tag_widget = widgets.Text(value='', description=\"Tag\")\n",
    "add_tag_button = widgets.Button(description=\"Add\")\n",
    "add_tag_button.on_click(add_tag)\n",
    "display(widgets.HBox([tag_widget, add_tag_button]), add_tag_output)"
   ]
  },
  {
   "cell_type": "markdown",
   "id": "9057e765-276c-4480-b9e8-083fcf5d397c",
   "metadata": {},
   "source": [
    "## Train Model"
   ]
  },
  {
   "cell_type": "code",
   "execution_count": null,
   "id": "66472677-da30-4971-9c30-917b15b35728",
   "metadata": {},
   "outputs": [],
   "source": [
    "def train_model(dataset_folder, model, epochs=10):\n",
    "    # Implement training loop here based on your dataset structure\n",
    "    pass"
   ]
  },
  {
   "cell_type": "code",
   "execution_count": null,
   "id": "e99eb233-865e-4126-b127-cdb6cf2795e5",
   "metadata": {},
   "outputs": [],
   "source": []
  }
 ],
 "metadata": {
  "kernelspec": {
   "display_name": "Python 3 (ipykernel)",
   "language": "python",
   "name": "python3"
  },
  "language_info": {
   "codemirror_mode": {
    "name": "ipython",
    "version": 3
   },
   "file_extension": ".py",
   "mimetype": "text/x-python",
   "name": "python",
   "nbconvert_exporter": "python",
   "pygments_lexer": "ipython3",
   "version": "3.12.0"
  }
 },
 "nbformat": 4,
 "nbformat_minor": 5
}
